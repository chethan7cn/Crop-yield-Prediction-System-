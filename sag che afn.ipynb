{
 "cells": [
  {
   "cell_type": "code",
   "execution_count": 1,
   "metadata": {},
   "outputs": [
    {
     "name": "stdout",
     "output_type": "stream",
     "text": [
      "       YIELD_ID  FARMER_ID  CROP_ID  SOIL_ID  WEATHER_ID  YIELD_AMOUNT  \\\n",
      "0             1        472       11     5104         213       6089.51   \n",
      "1             2        118       20    10751       13505       5166.88   \n",
      "2             3        675        8     6744        1224       3593.67   \n",
      "3             4        241        6    18456         788       1250.02   \n",
      "4             5        294        4    15194       13223       1493.02   \n",
      "...         ...        ...      ...      ...         ...           ...   \n",
      "19995     19996        389       12     4849        9350       1538.45   \n",
      "19996     19997         99        4    15793       11737       3437.08   \n",
      "19997     19998         12        2    15960       18390       4634.72   \n",
      "19998     19999        624        1     6486         109       6980.35   \n",
      "19999     20000        573       18     2668        5920       2492.19   \n",
      "\n",
      "      HARVEST_DATE  \n",
      "0       2025-01-04  \n",
      "1       2025-01-24  \n",
      "2       2025-01-29  \n",
      "3       2025-01-02  \n",
      "4       2025-01-29  \n",
      "...            ...  \n",
      "19995   2025-01-06  \n",
      "19996   2025-01-15  \n",
      "19997   2025-01-12  \n",
      "19998   2025-01-07  \n",
      "19999   2025-01-02  \n",
      "\n",
      "[20000 rows x 7 columns]\n"
     ]
    }
   ],
   "source": [
    "#Reading a table yield\n",
    "import pandas as pd\n",
    "yield_data_df=pd.read_csv('C:\\\\Ibridge_project\\\\Dataset\\\\DataTables\\\\yield_data.csv')\n",
    "print(yield_data_df)"
   ]
  },
  {
   "cell_type": "code",
   "execution_count": 2,
   "metadata": {},
   "outputs": [
    {
     "name": "stdout",
     "output_type": "stream",
     "text": [
      "       WEATHER_ID        LOCATION WEATHER_DATE  TEMPERATURE  HUMIDITY  \\\n",
      "0               1    South Region   2025-01-29        33.33     64.02   \n",
      "1               2     East Region   2025-01-20        38.33     24.95   \n",
      "2               3     West Region   2025-01-01        24.96     55.86   \n",
      "3               4  Central Region   2025-01-18        39.43     50.27   \n",
      "4               5     West Region   2025-01-31         3.26     67.04   \n",
      "...           ...             ...          ...          ...       ...   \n",
      "19995       19996     West Region   2025-02-01         2.24     44.29   \n",
      "19996       19997  Central Region   2025-01-14        17.39     60.86   \n",
      "19997       19998     West Region   2025-01-08        -0.17     22.12   \n",
      "19998       19999     West Region   2025-01-07         3.35     78.23   \n",
      "19999       20000  Central Region   2025-01-02         4.03     32.96   \n",
      "\n",
      "       RAINFALL  WIND_SPEED  \n",
      "0         45.33       23.05  \n",
      "1        148.78      135.75  \n",
      "2         42.88       33.96  \n",
      "3          6.31      137.81  \n",
      "4        174.20       99.64  \n",
      "...         ...         ...  \n",
      "19995    124.49       59.53  \n",
      "19996     39.94      142.60  \n",
      "19997    119.71       10.53  \n",
      "19998     87.04       45.67  \n",
      "19999    182.60      128.39  \n",
      "\n",
      "[20000 rows x 7 columns]\n"
     ]
    }
   ],
   "source": [
    "#Reading a table weather_data\n",
    "import pandas as pd\n",
    "weather_data_df=pd.read_csv('C:\\\\Ibridge_project\\\\Dataset\\\\DataTables\\\\weather_data.csv')\n",
    "print(weather_data_df)"
   ]
  },
  {
   "cell_type": "code",
   "execution_count": 3,
   "metadata": {},
   "outputs": [
    {
     "name": "stdout",
     "output_type": "stream",
     "text": [
      "       SUBSIDY_ID  FARMER_ID  SUBSIDY_AMOUNT SUBSIDY_PURPOSE DATE_RECEIVED\n",
      "0               1        362         9256.78      Fertilizer    2025-01-18\n",
      "1               2        924         6529.72   Seed Purchase    2025-01-29\n",
      "2               3        816         2106.30    Pest Control    2025-01-11\n",
      "3               4        124         5217.88    Pest Control    2025-01-27\n",
      "4               5        514         9353.19       Equipment    2025-01-25\n",
      "...           ...        ...             ...             ...           ...\n",
      "19995       19996        178         1325.11      Irrigation    2025-02-02\n",
      "19996       19997        136         8965.78       Equipment    2025-01-04\n",
      "19997       19998        339         9363.91      Irrigation    2025-01-11\n",
      "19998       19999        838         6417.79      Fertilizer    2025-01-02\n",
      "19999       20000        135         6384.45      Fertilizer    2025-01-29\n",
      "\n",
      "[20000 rows x 5 columns]\n"
     ]
    }
   ],
   "source": [
    "#Reading a table subsidy_data\n",
    "import pandas as pd\n",
    "subsidy_data_df=pd.read_csv('C:\\\\Ibridge_project\\\\Dataset\\\\DataTables\\\\subsidy_data.csv')\n",
    "print(subsidy_data_df)"
   ]
  },
  {
   "cell_type": "code",
   "execution_count": 4,
   "metadata": {},
   "outputs": [
    {
     "name": "stdout",
     "output_type": "stream",
     "text": [
      "       SOIL_ID        LOCATION  PH_LEVEL  ORGANIC_MATTER  NITROGEN  \\\n",
      "0            1     East Region      6.43            2.85      1.43   \n",
      "1            2     East Region      8.06            5.17      0.98   \n",
      "2            3  Central Region      4.99            7.70      0.86   \n",
      "3            4  Central Region      7.01            6.45      1.37   \n",
      "4            5     West Region      8.28            1.49      0.95   \n",
      "...        ...             ...       ...             ...       ...   \n",
      "19995    19996  Central Region      5.64            9.49      0.38   \n",
      "19996    19997    South Region      6.21            5.83      1.17   \n",
      "19997    19998    South Region      5.58            8.21      0.60   \n",
      "19998    19999  Central Region      7.88            6.20      0.70   \n",
      "19999    20000    North Region      6.63            8.32      0.73   \n",
      "\n",
      "       PHOSPHORUS  POTASSIUM  \n",
      "0            4.90      15.68  \n",
      "1           39.01       4.93  \n",
      "2           47.20      27.54  \n",
      "3           25.17       3.64  \n",
      "4           28.93      27.98  \n",
      "...           ...        ...  \n",
      "19995       36.88      22.53  \n",
      "19996        6.10      19.88  \n",
      "19997       17.52      38.50  \n",
      "19998       41.72      47.09  \n",
      "19999       26.62      43.15  \n",
      "\n",
      "[20000 rows x 7 columns]\n"
     ]
    }
   ],
   "source": [
    "#Reading a table soil_data\n",
    "import pandas as pd\n",
    "soil_data_df=pd.read_csv('C:\\\\Ibridge_project\\\\Dataset\\\\DataTables\\\\soil_data.csv')\n",
    "print(soil_data_df)"
   ]
  },
  {
   "cell_type": "code",
   "execution_count": 5,
   "metadata": {},
   "outputs": [
    {
     "name": "stdout",
     "output_type": "stream",
     "text": [
      "       PRICE_ID  CROP_ID    MARKET  PRICE_PER_KG  PRICE_DATE\n",
      "0             1        5  Market A        139.68  2025-01-18\n",
      "1             2        2  Market A        158.43  2025-01-02\n",
      "2             3        8  Market B        172.21  2025-01-28\n",
      "3             4       20  Market D         79.39  2025-01-23\n",
      "4             5        2  Market A         22.72  2025-01-13\n",
      "...         ...      ...       ...           ...         ...\n",
      "19995     19996       11  Market E        180.34  2025-01-27\n",
      "19996     19997       18  Market A         73.22  2025-01-23\n",
      "19997     19998        7  Market E        189.86  2025-01-23\n",
      "19998     19999        2  Market D         89.65  2025-01-31\n",
      "19999     20000        1  Market E         91.88  2025-01-04\n",
      "\n",
      "[20000 rows x 5 columns]\n"
     ]
    }
   ],
   "source": [
    "#Reading a table price_data\n",
    "import pandas as pd\n",
    "price_data_df=pd.read_csv('C:\\\\Ibridge_project\\\\Dataset\\\\DataTables\\\\price_data.csv')\n",
    "print(price_data_df)"
   ]
  },
  {
   "cell_type": "code",
   "execution_count": 6,
   "metadata": {},
   "outputs": [
    {
     "name": "stdout",
     "output_type": "stream",
     "text": [
      "       PEST_ID    PEST_NAME  AFFECTED_CROP_ID\n",
      "0            1  Caterpillar                 5\n",
      "1            2  Caterpillar                 7\n",
      "2            3         Mite                20\n",
      "3            4     Whitefly                12\n",
      "4            5       Fungus                11\n",
      "...        ...          ...               ...\n",
      "19995    19996       Locust                 5\n",
      "19996    19997      Termite                17\n",
      "19997    19998         Mite                18\n",
      "19998    19999       Thrips                 6\n",
      "19999    20000       Locust                 5\n",
      "\n",
      "[20000 rows x 3 columns]\n"
     ]
    }
   ],
   "source": [
    "#Reading a table pest_data\n",
    "import pandas as pd\n",
    "pest_data_df=pd.read_csv('C:\\\\Ibridge_project\\\\Dataset\\\\DataTables\\\\pest_data.csv')\n",
    "print(pest_data_df)"
   ]
  },
  {
   "cell_type": "code",
   "execution_count": 7,
   "metadata": {},
   "outputs": [
    {
     "name": "stdout",
     "output_type": "stream",
     "text": [
      "       IRRIGATION_ID        LOCATION IRRIGATION_TYPE  WATER_USAGE  \\\n",
      "0                  1    North Region         Surface       482.30   \n",
      "1                  2    South Region      Subsurface       216.06   \n",
      "2                  3     East Region         Surface       483.91   \n",
      "3                  4  Central Region      Subsurface       156.14   \n",
      "4                  5    South Region         Surface       317.94   \n",
      "...              ...             ...             ...          ...   \n",
      "19995          19996     West Region      Subsurface       359.97   \n",
      "19996          19997     East Region       Sprinkler       226.61   \n",
      "19997          19998    North Region         Surface       162.74   \n",
      "19998          19999  Central Region      Subsurface       356.97   \n",
      "19999          20000     West Region            Drip       360.59   \n",
      "\n",
      "      LAST_IRRIGATION_DATE  FARMER_ID  \n",
      "0               2025-01-23        804  \n",
      "1               2025-01-28        157  \n",
      "2               2025-01-17        375  \n",
      "3               2025-01-18        542  \n",
      "4               2025-01-05        453  \n",
      "...                    ...        ...  \n",
      "19995           2025-01-29        504  \n",
      "19996           2025-01-17        535  \n",
      "19997           2025-01-14        307  \n",
      "19998           2025-01-08        236  \n",
      "19999           2025-01-01        609  \n",
      "\n",
      "[20000 rows x 6 columns]\n"
     ]
    }
   ],
   "source": [
    "#Reading a table irrigation_data\n",
    "import pandas as pd\n",
    "irrigation_data_df=pd.read_csv('C:\\\\Ibridge_project\\\\Dataset\\\\DataTables\\\\irrigation_data.csv')\n",
    "print(irrigation_data_df)"
   ]
  },
  {
   "cell_type": "code",
   "execution_count": 8,
   "metadata": {},
   "outputs": [
    {
     "name": "stdout",
     "output_type": "stream",
     "text": [
      "       FERTILIZER_ID   FERTILIZER_NAME  NITROGEN_CONTENT  PHOSPHORUS_CONTENT  \\\n",
      "0                  1               DAP             38.71               26.23   \n",
      "1                  2               NPK             37.45               27.73   \n",
      "2                  3   Calcium Nitrate             36.99               18.45   \n",
      "3                  4  Ammonium Sulfate             20.10               17.47   \n",
      "4                  5               NPK             15.10               11.32   \n",
      "...              ...               ...               ...                 ...   \n",
      "19995          19996              Urea             22.48               16.12   \n",
      "19996          19997  Ammonium Sulfate             44.92               26.71   \n",
      "19997          19998               NPK             10.84               14.56   \n",
      "19998          19999   Calcium Nitrate             22.44               14.46   \n",
      "19999          20000               NPK             27.34                8.47   \n",
      "\n",
      "       POTASSIUM_CONTENT  RECOMMENDED_CROP_ID  \n",
      "0                  15.61                    5  \n",
      "1                  15.24                    3  \n",
      "2                   6.68                    1  \n",
      "3                   7.18                   19  \n",
      "4                   9.51                   11  \n",
      "...                  ...                  ...  \n",
      "19995              29.63                   20  \n",
      "19996              22.59                   10  \n",
      "19997              22.99                    7  \n",
      "19998              17.43                   18  \n",
      "19999              18.40                   10  \n",
      "\n",
      "[20000 rows x 6 columns]\n"
     ]
    }
   ],
   "source": [
    "#Reading a table fertilizer_data\n",
    "import pandas as pd\n",
    "fertilizer_data_df=pd.read_csv('C:\\\\Ibridge_project\\\\Dataset\\\\DataTables\\\\fertilizer_data.csv')\n",
    "print(fertilizer_data_df)"
   ]
  },
  {
   "cell_type": "code",
   "execution_count": 9,
   "metadata": {},
   "outputs": [
    {
     "name": "stdout",
     "output_type": "stream",
     "text": [
      "       RECORD_ID  FARMER_ID  INVESTMENT_AMOUNT  OPERATIONAL_COST   PROFIT  \\\n",
      "0              1       9211           25337.88          23145.88  1461.51   \n",
      "1              2       6233           47083.58          17050.43  5148.89   \n",
      "2              3       4562           15316.92          21222.75  2350.62   \n",
      "3              4       5671           31429.78           7343.53  2305.52   \n",
      "4              5       6260           36577.67           7072.41  4412.52   \n",
      "...          ...        ...                ...               ...      ...   \n",
      "19995      19996       5310           40781.59          19720.89  7313.44   \n",
      "19996      19997       7734           24828.90          29565.69  1304.31   \n",
      "19997      19998       7948           21331.94          16180.12  2090.91   \n",
      "19998      19999       1955           31813.55           9256.61  2547.70   \n",
      "19999      20000       5706           23584.85          26086.10  2516.92   \n",
      "\n",
      "      RECORD_DATE  \n",
      "0      2022-10-06  \n",
      "1      2023-04-29  \n",
      "2      2020-08-01  \n",
      "3      2024-07-15  \n",
      "4      2024-02-04  \n",
      "...           ...  \n",
      "19995  2020-09-16  \n",
      "19996  2021-02-26  \n",
      "19997  2022-10-31  \n",
      "19998  2023-11-26  \n",
      "19999  2023-08-24  \n",
      "\n",
      "[20000 rows x 6 columns]\n"
     ]
    }
   ],
   "source": [
    "\n",
    "#Reading a table farmer_records\n",
    "import pandas as pd\n",
    "farmer_records_df=pd.read_csv('C:\\\\Ibridge_project\\\\Dataset\\\\DataTables\\\\farmer_records.csv')\n",
    "print(farmer_records_df)"
   ]
  },
  {
   "cell_type": "code",
   "execution_count": 10,
   "metadata": {},
   "outputs": [
    {
     "name": "stdout",
     "output_type": "stream",
     "text": [
      "       FARMER_ID             NAME             LOCATION          CONTACT_NUMBER\n",
      "0              1        Gary Rich           Floresside     (635)804-8749x96180\n",
      "1              2     Sergio Baker      East Brianhaven       394.845.6195x0262\n",
      "2              3       Zoe Bryant      North Jennatown            430-482-4037\n",
      "3              4    Mathew Thomas         Atkinsonport  001-214-598-4780x77501\n",
      "4              5  Vanessa Sanchez        East Bradstad            278.525.2179\n",
      "...          ...              ...                  ...                     ...\n",
      "19995      19996     Denise Allen  North Michelleville       822.550.6858x5216\n",
      "19996      19997   James Williams            Hallshire       (936)297-1653x483\n",
      "19997      19998       Scott Gray           Newmantown      440-250-7692x33124\n",
      "19998      19999      Emily Burns             Nashland      988.660.5806x37803\n",
      "19999      20000   Nicholas Ramos   Lake Lawrencemouth      204-394-4133x06274\n",
      "\n",
      "[20000 rows x 4 columns]\n"
     ]
    }
   ],
   "source": [
    "#Reading a table farmer_details\n",
    "import pandas as pd\n",
    "farmer_details_df=pd.read_csv('C:\\\\Ibridge_project\\\\Dataset\\\\DataTables\\\\farmer_details.csv')\n",
    "print(farmer_details_df)"
   ]
  },
  {
   "cell_type": "code",
   "execution_count": 11,
   "metadata": {},
   "outputs": [
    {
     "name": "stdout",
     "output_type": "stream",
     "text": [
      "       CROP_ID  CROP_NAME CROP_TYPE GROWING_SEASON\n",
      "0            1       Jute    Legume         Kharif\n",
      "1            2     Barley   Oilseed         Kharif\n",
      "2            3     Barley    Legume           Zaid\n",
      "3            4  Sugarcane   Oilseed         Kharif\n",
      "4            5     Cotton     Fiber           Zaid\n",
      "...        ...        ...       ...            ...\n",
      "19995    19996       Oats     Fiber         Kharif\n",
      "19996    19997       Oats    Cereal           Zaid\n",
      "19997    19998       Oats   Oilseed         Kharif\n",
      "19998    19999    Soybean    Cereal           Rabi\n",
      "19999    20000     Cotton   Oilseed         Kharif\n",
      "\n",
      "[20000 rows x 4 columns]\n"
     ]
    }
   ],
   "source": [
    "#Reading a table crop_data\n",
    "import pandas as pd\n",
    "crop_data_df=pd.read_csv('C:\\\\Ibridge_project\\\\Dataset\\\\DataTables\\\\crop_data.csv')\n",
    "print(crop_data_df)"
   ]
  },
  {
   "cell_type": "code",
   "execution_count": 12,
   "metadata": {},
   "outputs": [
    {
     "name": "stdout",
     "output_type": "stream",
     "text": [
      "       CONTROL_ID  PEST_ID      METHOD  EFFECTIVENESS\n",
      "0               1       40     Organic          94.43\n",
      "1               2       39    Cultural          52.90\n",
      "2               3       28    Cultural          52.78\n",
      "3               4       26  Mechanical          99.55\n",
      "4               5       47    Cultural          51.25\n",
      "...           ...      ...         ...            ...\n",
      "19995       19996       18    Cultural          88.72\n",
      "19996       19997        8    Chemical          64.99\n",
      "19997       19998       10  Mechanical          65.72\n",
      "19998       19999       12    Cultural          74.88\n",
      "19999       20000       11  Mechanical          84.67\n",
      "\n",
      "[20000 rows x 4 columns]\n"
     ]
    }
   ],
   "source": [
    "#Reading a table control_data\n",
    "import pandas as pd\n",
    "control_data_df=pd.read_csv('C:\\\\Ibridge_project\\\\Dataset\\\\DataTables\\\\control_data.csv')\n",
    "print(control_data_df)"
   ]
  },
  {
   "cell_type": "code",
   "execution_count": 13,
   "metadata": {},
   "outputs": [
    {
     "data": {
      "text/html": [
       "<div>\n",
       "<style scoped>\n",
       "    .dataframe tbody tr th:only-of-type {\n",
       "        vertical-align: middle;\n",
       "    }\n",
       "\n",
       "    .dataframe tbody tr th {\n",
       "        vertical-align: top;\n",
       "    }\n",
       "\n",
       "    .dataframe thead th {\n",
       "        text-align: right;\n",
       "    }\n",
       "</style>\n",
       "<table border=\"1\" class=\"dataframe\">\n",
       "  <thead>\n",
       "    <tr style=\"text-align: right;\">\n",
       "      <th></th>\n",
       "      <th>FERTILIZER_ID</th>\n",
       "      <th>FERTILIZER_NAME</th>\n",
       "      <th>NITROGEN_CONTENT</th>\n",
       "      <th>PHOSPHORUS_CONTENT</th>\n",
       "      <th>POTASSIUM_CONTENT</th>\n",
       "      <th>RECOMMENDED_CROP_ID</th>\n",
       "    </tr>\n",
       "  </thead>\n",
       "  <tbody>\n",
       "    <tr>\n",
       "      <th>0</th>\n",
       "      <td>1</td>\n",
       "      <td>DAP</td>\n",
       "      <td>38.71</td>\n",
       "      <td>26.23</td>\n",
       "      <td>15.61</td>\n",
       "      <td>5</td>\n",
       "    </tr>\n",
       "    <tr>\n",
       "      <th>1</th>\n",
       "      <td>2</td>\n",
       "      <td>NPK</td>\n",
       "      <td>37.45</td>\n",
       "      <td>27.73</td>\n",
       "      <td>15.24</td>\n",
       "      <td>3</td>\n",
       "    </tr>\n",
       "    <tr>\n",
       "      <th>2</th>\n",
       "      <td>3</td>\n",
       "      <td>Calcium Nitrate</td>\n",
       "      <td>36.99</td>\n",
       "      <td>18.45</td>\n",
       "      <td>6.68</td>\n",
       "      <td>1</td>\n",
       "    </tr>\n",
       "    <tr>\n",
       "      <th>3</th>\n",
       "      <td>4</td>\n",
       "      <td>Ammonium Sulfate</td>\n",
       "      <td>20.10</td>\n",
       "      <td>17.47</td>\n",
       "      <td>7.18</td>\n",
       "      <td>19</td>\n",
       "    </tr>\n",
       "    <tr>\n",
       "      <th>4</th>\n",
       "      <td>5</td>\n",
       "      <td>NPK</td>\n",
       "      <td>15.10</td>\n",
       "      <td>11.32</td>\n",
       "      <td>9.51</td>\n",
       "      <td>11</td>\n",
       "    </tr>\n",
       "    <tr>\n",
       "      <th>...</th>\n",
       "      <td>...</td>\n",
       "      <td>...</td>\n",
       "      <td>...</td>\n",
       "      <td>...</td>\n",
       "      <td>...</td>\n",
       "      <td>...</td>\n",
       "    </tr>\n",
       "    <tr>\n",
       "      <th>19995</th>\n",
       "      <td>19996</td>\n",
       "      <td>Urea</td>\n",
       "      <td>22.48</td>\n",
       "      <td>16.12</td>\n",
       "      <td>29.63</td>\n",
       "      <td>20</td>\n",
       "    </tr>\n",
       "    <tr>\n",
       "      <th>19996</th>\n",
       "      <td>19997</td>\n",
       "      <td>Ammonium Sulfate</td>\n",
       "      <td>44.92</td>\n",
       "      <td>26.71</td>\n",
       "      <td>22.59</td>\n",
       "      <td>10</td>\n",
       "    </tr>\n",
       "    <tr>\n",
       "      <th>19997</th>\n",
       "      <td>19998</td>\n",
       "      <td>NPK</td>\n",
       "      <td>10.84</td>\n",
       "      <td>14.56</td>\n",
       "      <td>22.99</td>\n",
       "      <td>7</td>\n",
       "    </tr>\n",
       "    <tr>\n",
       "      <th>19998</th>\n",
       "      <td>19999</td>\n",
       "      <td>Calcium Nitrate</td>\n",
       "      <td>22.44</td>\n",
       "      <td>14.46</td>\n",
       "      <td>17.43</td>\n",
       "      <td>18</td>\n",
       "    </tr>\n",
       "    <tr>\n",
       "      <th>19999</th>\n",
       "      <td>20000</td>\n",
       "      <td>NPK</td>\n",
       "      <td>27.34</td>\n",
       "      <td>8.47</td>\n",
       "      <td>18.40</td>\n",
       "      <td>10</td>\n",
       "    </tr>\n",
       "  </tbody>\n",
       "</table>\n",
       "<p>20000 rows × 6 columns</p>\n",
       "</div>"
      ],
      "text/plain": [
       "       FERTILIZER_ID   FERTILIZER_NAME  NITROGEN_CONTENT  PHOSPHORUS_CONTENT  \\\n",
       "0                  1               DAP             38.71               26.23   \n",
       "1                  2               NPK             37.45               27.73   \n",
       "2                  3   Calcium Nitrate             36.99               18.45   \n",
       "3                  4  Ammonium Sulfate             20.10               17.47   \n",
       "4                  5               NPK             15.10               11.32   \n",
       "...              ...               ...               ...                 ...   \n",
       "19995          19996              Urea             22.48               16.12   \n",
       "19996          19997  Ammonium Sulfate             44.92               26.71   \n",
       "19997          19998               NPK             10.84               14.56   \n",
       "19998          19999   Calcium Nitrate             22.44               14.46   \n",
       "19999          20000               NPK             27.34                8.47   \n",
       "\n",
       "       POTASSIUM_CONTENT  RECOMMENDED_CROP_ID  \n",
       "0                  15.61                    5  \n",
       "1                  15.24                    3  \n",
       "2                   6.68                    1  \n",
       "3                   7.18                   19  \n",
       "4                   9.51                   11  \n",
       "...                  ...                  ...  \n",
       "19995              29.63                   20  \n",
       "19996              22.59                   10  \n",
       "19997              22.99                    7  \n",
       "19998              17.43                   18  \n",
       "19999              18.40                   10  \n",
       "\n",
       "[20000 rows x 6 columns]"
      ]
     },
     "execution_count": 13,
     "metadata": {},
     "output_type": "execute_result"
    }
   ],
   "source": [
    "fertilizer_data_df\n"
   ]
  },
  {
   "cell_type": "code",
   "execution_count": 14,
   "metadata": {},
   "outputs": [
    {
     "name": "stdout",
     "output_type": "stream",
     "text": [
      "None\n"
     ]
    }
   ],
   "source": [
    "#Finding the missing values in fertilizer table:\n",
    "fertilizer_data_df_missing_value = fertilizer_data_df.fillna({'nitrogen_content': 0, 'phosphorus_content' : 0, 'potassium_content':0},inplace=True)\n",
    "\n",
    "print(fertilizer_data_df_missing_value)"
   ]
  },
  {
   "cell_type": "code",
   "execution_count": 15,
   "metadata": {},
   "outputs": [
    {
     "name": "stdout",
     "output_type": "stream",
     "text": [
      "       PRICE_ID  CROP_ID    MARKET  PRICE_PER_KG  PRICE_DATE\n",
      "0             1        5  Market A        139.68  2025-01-18\n",
      "1             2        2  Market A        158.43  2025-01-02\n",
      "2             3        8  Market B        172.21  2025-01-28\n",
      "3             4       20  Market D         79.39  2025-01-23\n",
      "4             5        2  Market A         22.72  2025-01-13\n",
      "...         ...      ...       ...           ...         ...\n",
      "19995     19996       11  Market E        180.34  2025-01-27\n",
      "19996     19997       18  Market A         73.22  2025-01-23\n",
      "19997     19998        7  Market E        189.86  2025-01-23\n",
      "19998     19999        2  Market D         89.65  2025-01-31\n",
      "19999     20000        1  Market E         91.88  2025-01-04\n",
      "\n",
      "[20000 rows x 5 columns]\n"
     ]
    }
   ],
   "source": [
    "#finding the missing values in price\n",
    "price_data_df_missing_values = price_data_df.fillna({'market':0,'price_per_kg':0})\n",
    "print(price_data_df_missing_values)"
   ]
  },
  {
   "cell_type": "code",
   "execution_count": 16,
   "metadata": {},
   "outputs": [
    {
     "name": "stdout",
     "output_type": "stream",
     "text": [
      "None\n"
     ]
    }
   ],
   "source": [
    "#finding the missing values in subc\n",
    "subsidy_data_df_missing_values= subsidy_data_df.fillna({'subsidy_amount':0,'subsidy_purpose':0,'date_resived':0},inplace=True)\n",
    "print(subsidy_data_df_missing_values)\n"
   ]
  },
  {
   "cell_type": "code",
   "execution_count": 17,
   "metadata": {},
   "outputs": [
    {
     "name": "stdout",
     "output_type": "stream",
     "text": [
      "None\n"
     ]
    }
   ],
   "source": [
    "#finding the missing values in irrigation\n",
    "irrigation_data_df_missing_values= irrigation_data_df.fillna({'water_usage':0,'location':0,'farmer_id':0},inplace=True)\n",
    "print(irrigation_data_df_missing_values)\n"
   ]
  },
  {
   "cell_type": "code",
   "execution_count": 18,
   "metadata": {},
   "outputs": [
    {
     "name": "stdout",
     "output_type": "stream",
     "text": [
      "0             JUTE\n",
      "1           BARLEY\n",
      "2           BARLEY\n",
      "3        SUGARCANE\n",
      "4           COTTON\n",
      "           ...    \n",
      "19995         OATS\n",
      "19996         OATS\n",
      "19997         OATS\n",
      "19998      SOYBEAN\n",
      "19999       COTTON\n",
      "Name: CROP_NAME, Length: 20000, dtype: object\n"
     ]
    }
   ],
   "source": [
    "#standarize crop names\n",
    "crop_data_df_standarize_crop_name= crop_data_df['CROP_NAME'].str.strip().str.upper()\n",
    "print(crop_data_df_standarize_crop_name)"
   ]
  },
  {
   "cell_type": "code",
   "execution_count": 19,
   "metadata": {},
   "outputs": [
    {
     "data": {
      "text/html": [
       "<div>\n",
       "<style scoped>\n",
       "    .dataframe tbody tr th:only-of-type {\n",
       "        vertical-align: middle;\n",
       "    }\n",
       "\n",
       "    .dataframe tbody tr th {\n",
       "        vertical-align: top;\n",
       "    }\n",
       "\n",
       "    .dataframe thead th {\n",
       "        text-align: right;\n",
       "    }\n",
       "</style>\n",
       "<table border=\"1\" class=\"dataframe\">\n",
       "  <thead>\n",
       "    <tr style=\"text-align: right;\">\n",
       "      <th></th>\n",
       "      <th>CROP_ID</th>\n",
       "      <th>CROP_NAME</th>\n",
       "      <th>CROP_TYPE</th>\n",
       "      <th>GROWING_SEASON</th>\n",
       "    </tr>\n",
       "  </thead>\n",
       "  <tbody>\n",
       "    <tr>\n",
       "      <th>0</th>\n",
       "      <td>1</td>\n",
       "      <td>Jute</td>\n",
       "      <td>Legume</td>\n",
       "      <td>Kharif</td>\n",
       "    </tr>\n",
       "    <tr>\n",
       "      <th>1</th>\n",
       "      <td>2</td>\n",
       "      <td>Barley</td>\n",
       "      <td>Oilseed</td>\n",
       "      <td>Kharif</td>\n",
       "    </tr>\n",
       "    <tr>\n",
       "      <th>2</th>\n",
       "      <td>3</td>\n",
       "      <td>Barley</td>\n",
       "      <td>Legume</td>\n",
       "      <td>Zaid</td>\n",
       "    </tr>\n",
       "    <tr>\n",
       "      <th>3</th>\n",
       "      <td>4</td>\n",
       "      <td>Sugarcane</td>\n",
       "      <td>Oilseed</td>\n",
       "      <td>Kharif</td>\n",
       "    </tr>\n",
       "    <tr>\n",
       "      <th>4</th>\n",
       "      <td>5</td>\n",
       "      <td>Cotton</td>\n",
       "      <td>Fiber</td>\n",
       "      <td>Zaid</td>\n",
       "    </tr>\n",
       "    <tr>\n",
       "      <th>...</th>\n",
       "      <td>...</td>\n",
       "      <td>...</td>\n",
       "      <td>...</td>\n",
       "      <td>...</td>\n",
       "    </tr>\n",
       "    <tr>\n",
       "      <th>19995</th>\n",
       "      <td>19996</td>\n",
       "      <td>Oats</td>\n",
       "      <td>Fiber</td>\n",
       "      <td>Kharif</td>\n",
       "    </tr>\n",
       "    <tr>\n",
       "      <th>19996</th>\n",
       "      <td>19997</td>\n",
       "      <td>Oats</td>\n",
       "      <td>Cereal</td>\n",
       "      <td>Zaid</td>\n",
       "    </tr>\n",
       "    <tr>\n",
       "      <th>19997</th>\n",
       "      <td>19998</td>\n",
       "      <td>Oats</td>\n",
       "      <td>Oilseed</td>\n",
       "      <td>Kharif</td>\n",
       "    </tr>\n",
       "    <tr>\n",
       "      <th>19998</th>\n",
       "      <td>19999</td>\n",
       "      <td>Soybean</td>\n",
       "      <td>Cereal</td>\n",
       "      <td>Rabi</td>\n",
       "    </tr>\n",
       "    <tr>\n",
       "      <th>19999</th>\n",
       "      <td>20000</td>\n",
       "      <td>Cotton</td>\n",
       "      <td>Oilseed</td>\n",
       "      <td>Kharif</td>\n",
       "    </tr>\n",
       "  </tbody>\n",
       "</table>\n",
       "<p>20000 rows × 4 columns</p>\n",
       "</div>"
      ],
      "text/plain": [
       "       CROP_ID  CROP_NAME CROP_TYPE GROWING_SEASON\n",
       "0            1       Jute    Legume         Kharif\n",
       "1            2     Barley   Oilseed         Kharif\n",
       "2            3     Barley    Legume           Zaid\n",
       "3            4  Sugarcane   Oilseed         Kharif\n",
       "4            5     Cotton     Fiber           Zaid\n",
       "...        ...        ...       ...            ...\n",
       "19995    19996       Oats     Fiber         Kharif\n",
       "19996    19997       Oats    Cereal           Zaid\n",
       "19997    19998       Oats   Oilseed         Kharif\n",
       "19998    19999    Soybean    Cereal           Rabi\n",
       "19999    20000     Cotton   Oilseed         Kharif\n",
       "\n",
       "[20000 rows x 4 columns]"
      ]
     },
     "execution_count": 19,
     "metadata": {},
     "output_type": "execute_result"
    }
   ],
   "source": [
    "crop_data_df"
   ]
  },
  {
   "cell_type": "code",
   "execution_count": 20,
   "metadata": {},
   "outputs": [
    {
     "name": "stdout",
     "output_type": "stream",
     "text": [
      "0        2\n",
      "1        3\n",
      "2        2\n",
      "3        3\n",
      "4        1\n",
      "        ..\n",
      "19995    1\n",
      "19996    0\n",
      "19997    3\n",
      "19998    0\n",
      "19999    3\n",
      "Length: 20000, dtype: int8\n"
     ]
    }
   ],
   "source": [
    "#Encode categrical crop types\n",
    "crop_data_df_categrical=crop_data_df['CROP_TYPE'].astype('category').cat.codes\n",
    "print(crop_data_df_categrical)"
   ]
  },
  {
   "cell_type": "code",
   "execution_count": 21,
   "metadata": {},
   "outputs": [
    {
     "name": "stdout",
     "output_type": "stream",
     "text": [
      "0        other\n",
      "1        other\n",
      "2        other\n",
      "3        other\n",
      "4        other\n",
      "         ...  \n",
      "19995    other\n",
      "19996    other\n",
      "19997    other\n",
      "19998    other\n",
      "19999    other\n",
      "Name: CROP_NAME, Length: 20000, dtype: object\n"
     ]
    }
   ],
   "source": [
    "#categrical crops based on type\n",
    "crop_data_df_cat = crop_data_df['CROP_NAME'].apply(lambda x:\n",
    "'cereal' if x in ['WHEAT','RICE','MIZE'] else  \n",
    "'Vegetable' if x in ['CARROT','POTATO'] else\n",
    "'Fruit' if x in ['APPLE','MANGO'] else 'other')\n",
    "print(crop_data_df_cat)"
   ]
  },
  {
   "cell_type": "code",
   "execution_count": 22,
   "metadata": {},
   "outputs": [
    {
     "name": "stdout",
     "output_type": "stream",
     "text": [
      "0        6.43\n",
      "1        8.06\n",
      "2        4.99\n",
      "3        7.01\n",
      "4        8.28\n",
      "         ... \n",
      "19995    5.64\n",
      "19996    6.21\n",
      "19997    5.58\n",
      "19998    7.88\n",
      "19999    6.63\n",
      "Name: PH_LEVEL, Length: 20000, dtype: float64\n"
     ]
    }
   ],
   "source": [
    "#Normalize soil ph levels\n",
    "soil_data_df_ph=soil_data_df['PH_LEVEL'].clip(0,14)\n",
    "print(soil_data_df_ph)"
   ]
  },
  {
   "cell_type": "code",
   "execution_count": 23,
   "metadata": {},
   "outputs": [
    {
     "name": "stdout",
     "output_type": "stream",
     "text": [
      "       PEST_ID    PEST_NAME  AFFECTED_CROP_ID\n",
      "0            1  Caterpillar                 5\n",
      "1            2  Caterpillar                 7\n",
      "2            3         Mite                20\n",
      "3            4     Whitefly                12\n",
      "4            5       Fungus                11\n",
      "...        ...          ...               ...\n",
      "19995    19996       Locust                 5\n",
      "19996    19997      Termite                17\n",
      "19997    19998         Mite                18\n",
      "19998    19999       Thrips                 6\n",
      "19999    20000       Locust                 5\n",
      "\n",
      "[20000 rows x 3 columns]\n"
     ]
    },
    {
     "name": "stderr",
     "output_type": "stream",
     "text": [
      "C:\\Users\\Guess\\AppData\\Local\\Temp\\ipykernel_7032\\896672645.py:2: FutureWarning: A value is trying to be set on a copy of a DataFrame or Series through chained assignment using an inplace method.\n",
      "The behavior will change in pandas 3.0. This inplace method will never work because the intermediate object on which we are setting values always behaves as a copy.\n",
      "\n",
      "For example, when doing 'df[col].method(value, inplace=True)', try using 'df.method({col: value}, inplace=True)' or df[col] = df[col].method(value) instead, to perform the operation inplace on the original object.\n",
      "\n",
      "\n",
      "  pest_data_df_replace=pest_data_df['PEST_NAME'].fillna('unknown',inplace=True)\n"
     ]
    }
   ],
   "source": [
    "#Replace missing pest names\n",
    "pest_data_df_replace=pest_data_df['PEST_NAME'].fillna('unknown',inplace=True)\n",
    "print (pest_data_df)"
   ]
  },
  {
   "cell_type": "code",
   "execution_count": 24,
   "metadata": {},
   "outputs": [
    {
     "name": "stdout",
     "output_type": "stream",
     "text": [
      "None\n"
     ]
    }
   ],
   "source": [
    "#Remove duplicate records crop data\n",
    "crop_data_df_duplicate=crop_data_df.drop_duplicates(subset=['CROP_ID'],inplace=True)\n",
    "print(crop_data_df_duplicate)"
   ]
  },
  {
   "cell_type": "code",
   "execution_count": 25,
   "metadata": {},
   "outputs": [
    {
     "data": {
      "text/html": [
       "<div>\n",
       "<style scoped>\n",
       "    .dataframe tbody tr th:only-of-type {\n",
       "        vertical-align: middle;\n",
       "    }\n",
       "\n",
       "    .dataframe tbody tr th {\n",
       "        vertical-align: top;\n",
       "    }\n",
       "\n",
       "    .dataframe thead th {\n",
       "        text-align: right;\n",
       "    }\n",
       "</style>\n",
       "<table border=\"1\" class=\"dataframe\">\n",
       "  <thead>\n",
       "    <tr style=\"text-align: right;\">\n",
       "      <th></th>\n",
       "      <th>RECORD_ID</th>\n",
       "      <th>FARMER_ID</th>\n",
       "      <th>INVESTMENT_AMOUNT</th>\n",
       "      <th>OPERATIONAL_COST</th>\n",
       "      <th>PROFIT</th>\n",
       "      <th>RECORD_DATE</th>\n",
       "    </tr>\n",
       "  </thead>\n",
       "  <tbody>\n",
       "    <tr>\n",
       "      <th>0</th>\n",
       "      <td>1</td>\n",
       "      <td>9211</td>\n",
       "      <td>25337.88</td>\n",
       "      <td>23145.88</td>\n",
       "      <td>1461.51</td>\n",
       "      <td>2022-10-06</td>\n",
       "    </tr>\n",
       "    <tr>\n",
       "      <th>1</th>\n",
       "      <td>2</td>\n",
       "      <td>6233</td>\n",
       "      <td>47083.58</td>\n",
       "      <td>17050.43</td>\n",
       "      <td>5148.89</td>\n",
       "      <td>2023-04-29</td>\n",
       "    </tr>\n",
       "    <tr>\n",
       "      <th>2</th>\n",
       "      <td>3</td>\n",
       "      <td>4562</td>\n",
       "      <td>15316.92</td>\n",
       "      <td>21222.75</td>\n",
       "      <td>2350.62</td>\n",
       "      <td>2020-08-01</td>\n",
       "    </tr>\n",
       "    <tr>\n",
       "      <th>3</th>\n",
       "      <td>4</td>\n",
       "      <td>5671</td>\n",
       "      <td>31429.78</td>\n",
       "      <td>7343.53</td>\n",
       "      <td>2305.52</td>\n",
       "      <td>2024-07-15</td>\n",
       "    </tr>\n",
       "    <tr>\n",
       "      <th>4</th>\n",
       "      <td>5</td>\n",
       "      <td>6260</td>\n",
       "      <td>36577.67</td>\n",
       "      <td>7072.41</td>\n",
       "      <td>4412.52</td>\n",
       "      <td>2024-02-04</td>\n",
       "    </tr>\n",
       "    <tr>\n",
       "      <th>...</th>\n",
       "      <td>...</td>\n",
       "      <td>...</td>\n",
       "      <td>...</td>\n",
       "      <td>...</td>\n",
       "      <td>...</td>\n",
       "      <td>...</td>\n",
       "    </tr>\n",
       "    <tr>\n",
       "      <th>19995</th>\n",
       "      <td>19996</td>\n",
       "      <td>5310</td>\n",
       "      <td>40781.59</td>\n",
       "      <td>19720.89</td>\n",
       "      <td>7313.44</td>\n",
       "      <td>2020-09-16</td>\n",
       "    </tr>\n",
       "    <tr>\n",
       "      <th>19996</th>\n",
       "      <td>19997</td>\n",
       "      <td>7734</td>\n",
       "      <td>24828.90</td>\n",
       "      <td>29565.69</td>\n",
       "      <td>1304.31</td>\n",
       "      <td>2021-02-26</td>\n",
       "    </tr>\n",
       "    <tr>\n",
       "      <th>19997</th>\n",
       "      <td>19998</td>\n",
       "      <td>7948</td>\n",
       "      <td>21331.94</td>\n",
       "      <td>16180.12</td>\n",
       "      <td>2090.91</td>\n",
       "      <td>2022-10-31</td>\n",
       "    </tr>\n",
       "    <tr>\n",
       "      <th>19998</th>\n",
       "      <td>19999</td>\n",
       "      <td>1955</td>\n",
       "      <td>31813.55</td>\n",
       "      <td>9256.61</td>\n",
       "      <td>2547.70</td>\n",
       "      <td>2023-11-26</td>\n",
       "    </tr>\n",
       "    <tr>\n",
       "      <th>19999</th>\n",
       "      <td>20000</td>\n",
       "      <td>5706</td>\n",
       "      <td>23584.85</td>\n",
       "      <td>26086.10</td>\n",
       "      <td>2516.92</td>\n",
       "      <td>2023-08-24</td>\n",
       "    </tr>\n",
       "  </tbody>\n",
       "</table>\n",
       "<p>19984 rows × 6 columns</p>\n",
       "</div>"
      ],
      "text/plain": [
       "       RECORD_ID  FARMER_ID  INVESTMENT_AMOUNT  OPERATIONAL_COST   PROFIT  \\\n",
       "0              1       9211           25337.88          23145.88  1461.51   \n",
       "1              2       6233           47083.58          17050.43  5148.89   \n",
       "2              3       4562           15316.92          21222.75  2350.62   \n",
       "3              4       5671           31429.78           7343.53  2305.52   \n",
       "4              5       6260           36577.67           7072.41  4412.52   \n",
       "...          ...        ...                ...               ...      ...   \n",
       "19995      19996       5310           40781.59          19720.89  7313.44   \n",
       "19996      19997       7734           24828.90          29565.69  1304.31   \n",
       "19997      19998       7948           21331.94          16180.12  2090.91   \n",
       "19998      19999       1955           31813.55           9256.61  2547.70   \n",
       "19999      20000       5706           23584.85          26086.10  2516.92   \n",
       "\n",
       "      RECORD_DATE  \n",
       "0      2022-10-06  \n",
       "1      2023-04-29  \n",
       "2      2020-08-01  \n",
       "3      2024-07-15  \n",
       "4      2024-02-04  \n",
       "...           ...  \n",
       "19995  2020-09-16  \n",
       "19996  2021-02-26  \n",
       "19997  2022-10-31  \n",
       "19998  2023-11-26  \n",
       "19999  2023-08-24  \n",
       "\n",
       "[19984 rows x 6 columns]"
      ]
     },
     "execution_count": 25,
     "metadata": {},
     "output_type": "execute_result"
    }
   ],
   "source": [
    "#Remove duplicate records farmer records\n",
    "farmer_records_df_duplicate=farmer_records_df.drop_duplicates(subset=['FARMER_ID','RECORD_DATE'],inplace=True)\n",
    "farmer_records_df"
   ]
  },
  {
   "cell_type": "code",
   "execution_count": 26,
   "metadata": {},
   "outputs": [
    {
     "name": "stdout",
     "output_type": "stream",
     "text": [
      "       RECORD_ID  FARMER_ID  INVESTMENT_AMOUNT  OPERATIONAL_COST   PROFIT  \\\n",
      "0              1       9211           25337.88          23145.88  1461.51   \n",
      "1              2       6233           47083.58          17050.43  5148.89   \n",
      "2              3       4562           15316.92          21222.75  2350.62   \n",
      "3              4       5671           31429.78           7343.53  2305.52   \n",
      "4              5       6260           36577.67           7072.41  4412.52   \n",
      "...          ...        ...                ...               ...      ...   \n",
      "19995      19996       5310           40781.59          19720.89  7313.44   \n",
      "19996      19997       7734           24828.90          29565.69  1304.31   \n",
      "19997      19998       7948           21331.94          16180.12  2090.91   \n",
      "19998      19999       1955           31813.55           9256.61  2547.70   \n",
      "19999      20000       5706           23584.85          26086.10  2516.92   \n",
      "\n",
      "      RECORD_DATE  \n",
      "0      2022-10-06  \n",
      "1      2023-04-29  \n",
      "2      2020-08-01  \n",
      "3      2024-07-15  \n",
      "4      2024-02-04  \n",
      "...           ...  \n",
      "19995  2020-09-16  \n",
      "19996  2021-02-26  \n",
      "19997  2022-10-31  \n",
      "19998  2023-11-26  \n",
      "19999  2023-08-24  \n",
      "\n",
      "[19984 rows x 6 columns]\n"
     ]
    }
   ],
   "source": [
    "#handle missing calculation farmer_record_df\n",
    "if'farmer_records_df'in farmer_records_df:\n",
    "    farmer_records_df['farmer_records_df']['profit'].fillna(\n",
    "        farmer_records_df['farmer_records_df']['investment_amount']-farmer_records_df['farmer_records_df']['operational_cost'],inplace=True)\n",
    "print(farmer_records_df)\n",
    "    "
   ]
  },
  {
   "cell_type": "code",
   "execution_count": 27,
   "metadata": {},
   "outputs": [
    {
     "name": "stdout",
     "output_type": "stream",
     "text": [
      "       RECORD_ID  FARMER_ID  INVESTMENT_AMOUNT  OPERATIONAL_COST   PROFIT  \\\n",
      "0              1       9211           25337.88          23145.88  1461.51   \n",
      "1              2       6233           47083.58          17050.43  5148.89   \n",
      "2              3       4562           15316.92          21222.75  2350.62   \n",
      "3              4       5671           31429.78           7343.53  2305.52   \n",
      "4              5       6260           36577.67           7072.41  4412.52   \n",
      "...          ...        ...                ...               ...      ...   \n",
      "19995      19996       5310           40781.59          19720.89  7313.44   \n",
      "19996      19997       7734           24828.90          29565.69  1304.31   \n",
      "19997      19998       7948           21331.94          16180.12  2090.91   \n",
      "19998      19999       1955           31813.55           9256.61  2547.70   \n",
      "19999      20000       5706           23584.85          26086.10  2516.92   \n",
      "\n",
      "      RECORD_DATE  \n",
      "0      2022-10-06  \n",
      "1      2023-04-29  \n",
      "2      2020-08-01  \n",
      "3      2024-07-15  \n",
      "4      2024-02-04  \n",
      "...           ...  \n",
      "19995  2020-09-16  \n",
      "19996  2021-02-26  \n",
      "19997  2022-10-31  \n",
      "19998  2023-11-26  \n",
      "19999  2023-08-24  \n",
      "\n",
      "[19984 rows x 6 columns]\n"
     ]
    }
   ],
   "source": [
    "#convert profit to absolute value\n",
    "farmer_records_df['PROFIT']=farmer_records_df['PROFIT'].abs()\n",
    "print(farmer_records_df)"
   ]
  },
  {
   "cell_type": "code",
   "execution_count": 28,
   "metadata": {},
   "outputs": [
    {
     "name": "stdout",
     "output_type": "stream",
     "text": [
      "       INVESTMENT_AMOUNT  OPERATIONAL_COST\n",
      "0               25337.88          23145.88\n",
      "1               47083.58          17050.43\n",
      "2               15316.92          21222.75\n",
      "3               31429.78           7343.53\n",
      "4               36577.67           7072.41\n",
      "...                  ...               ...\n",
      "19995           40781.59          19720.89\n",
      "19996           24828.90          29565.69\n",
      "19997           21331.94          16180.12\n",
      "19998           31813.55           9256.61\n",
      "19999           23584.85          26086.10\n",
      "\n",
      "[19984 rows x 2 columns]\n"
     ]
    }
   ],
   "source": [
    "#remove negative investment or operational costs\n",
    "farmer_records_df_remove=farmer_records_df[['INVESTMENT_AMOUNT','OPERATIONAL_COST']].clip(lower=0)\n",
    "print(farmer_records_df_remove)"
   ]
  },
  {
   "cell_type": "code",
   "execution_count": 29,
   "metadata": {},
   "outputs": [
    {
     "name": "stdout",
     "output_type": "stream",
     "text": [
      "0        False\n",
      "1         True\n",
      "2        False\n",
      "3         True\n",
      "4        False\n",
      "         ...  \n",
      "19995    False\n",
      "19996     True\n",
      "19997     True\n",
      "19998    False\n",
      "19999    False\n",
      "Name: WATER_USAGE, Length: 20000, dtype: bool\n"
     ]
    }
   ],
   "source": [
    "#flag low water usage\n",
    "median_water_usage=irrigation_data_df['WATER_USAGE'].median()\n",
    "irrigation_data_water_usage=irrigation_data_df['WATER_USAGE'] < median_water_usage\n",
    "print(irrigation_data_water_usage)\n",
    "\n"
   ]
  },
  {
   "cell_type": "code",
   "execution_count": 30,
   "metadata": {},
   "outputs": [
    {
     "data": {
      "text/html": [
       "<div>\n",
       "<style scoped>\n",
       "    .dataframe tbody tr th:only-of-type {\n",
       "        vertical-align: middle;\n",
       "    }\n",
       "\n",
       "    .dataframe tbody tr th {\n",
       "        vertical-align: top;\n",
       "    }\n",
       "\n",
       "    .dataframe thead th {\n",
       "        text-align: right;\n",
       "    }\n",
       "</style>\n",
       "<table border=\"1\" class=\"dataframe\">\n",
       "  <thead>\n",
       "    <tr style=\"text-align: right;\">\n",
       "      <th></th>\n",
       "      <th>IRRIGATION_ID</th>\n",
       "      <th>LOCATION</th>\n",
       "      <th>IRRIGATION_TYPE</th>\n",
       "      <th>WATER_USAGE</th>\n",
       "      <th>LAST_IRRIGATION_DATE</th>\n",
       "      <th>FARMER_ID</th>\n",
       "    </tr>\n",
       "  </thead>\n",
       "  <tbody>\n",
       "    <tr>\n",
       "      <th>0</th>\n",
       "      <td>1</td>\n",
       "      <td>North Region</td>\n",
       "      <td>Surface</td>\n",
       "      <td>482.30</td>\n",
       "      <td>2025-01-23</td>\n",
       "      <td>804</td>\n",
       "    </tr>\n",
       "    <tr>\n",
       "      <th>1</th>\n",
       "      <td>2</td>\n",
       "      <td>South Region</td>\n",
       "      <td>Subsurface</td>\n",
       "      <td>216.06</td>\n",
       "      <td>2025-01-28</td>\n",
       "      <td>157</td>\n",
       "    </tr>\n",
       "    <tr>\n",
       "      <th>2</th>\n",
       "      <td>3</td>\n",
       "      <td>East Region</td>\n",
       "      <td>Surface</td>\n",
       "      <td>483.91</td>\n",
       "      <td>2025-01-17</td>\n",
       "      <td>375</td>\n",
       "    </tr>\n",
       "    <tr>\n",
       "      <th>3</th>\n",
       "      <td>4</td>\n",
       "      <td>Central Region</td>\n",
       "      <td>Subsurface</td>\n",
       "      <td>156.14</td>\n",
       "      <td>2025-01-18</td>\n",
       "      <td>542</td>\n",
       "    </tr>\n",
       "    <tr>\n",
       "      <th>4</th>\n",
       "      <td>5</td>\n",
       "      <td>South Region</td>\n",
       "      <td>Surface</td>\n",
       "      <td>317.94</td>\n",
       "      <td>2025-01-05</td>\n",
       "      <td>453</td>\n",
       "    </tr>\n",
       "    <tr>\n",
       "      <th>...</th>\n",
       "      <td>...</td>\n",
       "      <td>...</td>\n",
       "      <td>...</td>\n",
       "      <td>...</td>\n",
       "      <td>...</td>\n",
       "      <td>...</td>\n",
       "    </tr>\n",
       "    <tr>\n",
       "      <th>19995</th>\n",
       "      <td>19996</td>\n",
       "      <td>West Region</td>\n",
       "      <td>Subsurface</td>\n",
       "      <td>359.97</td>\n",
       "      <td>2025-01-29</td>\n",
       "      <td>504</td>\n",
       "    </tr>\n",
       "    <tr>\n",
       "      <th>19996</th>\n",
       "      <td>19997</td>\n",
       "      <td>East Region</td>\n",
       "      <td>Sprinkler</td>\n",
       "      <td>226.61</td>\n",
       "      <td>2025-01-17</td>\n",
       "      <td>535</td>\n",
       "    </tr>\n",
       "    <tr>\n",
       "      <th>19997</th>\n",
       "      <td>19998</td>\n",
       "      <td>North Region</td>\n",
       "      <td>Surface</td>\n",
       "      <td>162.74</td>\n",
       "      <td>2025-01-14</td>\n",
       "      <td>307</td>\n",
       "    </tr>\n",
       "    <tr>\n",
       "      <th>19998</th>\n",
       "      <td>19999</td>\n",
       "      <td>Central Region</td>\n",
       "      <td>Subsurface</td>\n",
       "      <td>356.97</td>\n",
       "      <td>2025-01-08</td>\n",
       "      <td>236</td>\n",
       "    </tr>\n",
       "    <tr>\n",
       "      <th>19999</th>\n",
       "      <td>20000</td>\n",
       "      <td>West Region</td>\n",
       "      <td>Drip</td>\n",
       "      <td>360.59</td>\n",
       "      <td>2025-01-01</td>\n",
       "      <td>609</td>\n",
       "    </tr>\n",
       "  </tbody>\n",
       "</table>\n",
       "<p>20000 rows × 6 columns</p>\n",
       "</div>"
      ],
      "text/plain": [
       "       IRRIGATION_ID        LOCATION IRRIGATION_TYPE  WATER_USAGE  \\\n",
       "0                  1    North Region         Surface       482.30   \n",
       "1                  2    South Region      Subsurface       216.06   \n",
       "2                  3     East Region         Surface       483.91   \n",
       "3                  4  Central Region      Subsurface       156.14   \n",
       "4                  5    South Region         Surface       317.94   \n",
       "...              ...             ...             ...          ...   \n",
       "19995          19996     West Region      Subsurface       359.97   \n",
       "19996          19997     East Region       Sprinkler       226.61   \n",
       "19997          19998    North Region         Surface       162.74   \n",
       "19998          19999  Central Region      Subsurface       356.97   \n",
       "19999          20000     West Region            Drip       360.59   \n",
       "\n",
       "      LAST_IRRIGATION_DATE  FARMER_ID  \n",
       "0               2025-01-23        804  \n",
       "1               2025-01-28        157  \n",
       "2               2025-01-17        375  \n",
       "3               2025-01-18        542  \n",
       "4               2025-01-05        453  \n",
       "...                    ...        ...  \n",
       "19995           2025-01-29        504  \n",
       "19996           2025-01-17        535  \n",
       "19997           2025-01-14        307  \n",
       "19998           2025-01-08        236  \n",
       "19999           2025-01-01        609  \n",
       "\n",
       "[20000 rows x 6 columns]"
      ]
     },
     "execution_count": 30,
     "metadata": {},
     "output_type": "execute_result"
    }
   ],
   "source": [
    "irrigation_data_df"
   ]
  },
  {
   "cell_type": "code",
   "execution_count": 31,
   "metadata": {},
   "outputs": [
    {
     "name": "stdout",
     "output_type": "stream",
     "text": [
      "0        Market A\n",
      "1        Market A\n",
      "2        Market B\n",
      "3        Market D\n",
      "4        Market A\n",
      "           ...   \n",
      "19995    Market E\n",
      "19996    Market A\n",
      "19997    Market E\n",
      "19998    Market D\n",
      "19999    Market E\n",
      "Name: MARKET, Length: 20000, dtype: object\n"
     ]
    }
   ],
   "source": [
    "#standardize market names\n",
    "price_data_df_market_names=price_data_df['MARKET'].str.strip().str.title()\n",
    "print(price_data_df_market_names)"
   ]
  },
  {
   "cell_type": "code",
   "execution_count": 32,
   "metadata": {},
   "outputs": [
    {
     "name": "stdout",
     "output_type": "stream",
     "text": [
      "0        1.0\n",
      "1        1.0\n",
      "2        1.0\n",
      "3        1.0\n",
      "4        1.0\n",
      "        ... \n",
      "19995    1.0\n",
      "19996    1.0\n",
      "19997    1.0\n",
      "19998    1.0\n",
      "19999    1.0\n",
      "Name: WATER_USAGE, Length: 20000, dtype: float64\n"
     ]
    }
   ],
   "source": [
    "#normalize water usage\n",
    "irrigation_data_water_usage=(\n",
    "    irrigation_data_df['WATER_USAGE']/irrigation_data_df.groupby('IRRIGATION_ID')['WATER_USAGE'].transform('mean')\n",
    ")\n",
    "print(irrigation_data_water_usage)"
   ]
  },
  {
   "cell_type": "code",
   "execution_count": 33,
   "metadata": {},
   "outputs": [],
   "source": [
    "#file path loading the clean data\n",
    "file_path='C:\\\\Ibridge_project\\\\Practice_File\\\\Clean_Data\\\\price_data_df3.csv'\n",
    "cleaned_data=price_data_df.to_csv(file_path,index=False)"
   ]
  },
  {
   "cell_type": "code",
   "execution_count": 34,
   "metadata": {},
   "outputs": [],
   "source": [
    "#file path loading the clean data\n",
    "file_path='C:\\\\Ibridge_project\\\\Practice_File\\\\Clean_Data\\\\irrigation_data_df4.csv'\n",
    "cleaned_data=irrigation_data_df.to_csv(file_path,index=False)"
   ]
  },
  {
   "cell_type": "code",
   "execution_count": 35,
   "metadata": {},
   "outputs": [],
   "source": [
    "#file path loading the clean data\n",
    "file_path='C:\\\\Ibridge_project\\\\Practice_File\\\\Clean_Data\\\\farmer_records_df5.csv'\n",
    "cleaned_data=farmer_records_df.to_csv(file_path,index=False)"
   ]
  },
  {
   "cell_type": "code",
   "execution_count": 36,
   "metadata": {},
   "outputs": [],
   "source": [
    "#file path loading the clean data\n",
    "file_path='C:\\\\Ibridge_project\\\\Practice_File\\\\Clean_Data\\\\crop_data_df6.csv'\n",
    "cleaned_data=crop_data_df.to_csv(file_path,index=False)"
   ]
  },
  {
   "cell_type": "code",
   "execution_count": 37,
   "metadata": {},
   "outputs": [],
   "source": [
    "#file path loading the clean data\n",
    "file_path='C:\\\\Ibridge_project\\\\Practice_File\\\\Clean_Data\\\\subsidy_data_df7.csv'\n",
    "cleaned_data=subsidy_data_df.to_csv(file_path,index=False)"
   ]
  },
  {
   "cell_type": "code",
   "execution_count": 38,
   "metadata": {},
   "outputs": [],
   "source": [
    "#file path loading the clean data\n",
    "file_path='C:\\\\Ibridge_project\\\\Practice_File\\\\Clean_Data\\\\pest_data_df8.csv'\n",
    "cleaned_data=pest_data_df.to_csv(file_path,index=False)"
   ]
  },
  {
   "cell_type": "code",
   "execution_count": 39,
   "metadata": {},
   "outputs": [],
   "source": [
    "#file path loading the clean data\n",
    "file_path='C:\\\\Ibridge_project\\\\Practice_File\\\\Clean_Data\\\\soil_data_df9.csv'\n",
    "cleaned_data=soil_data_df.to_csv(file_path,index=False)"
   ]
  }
 ],
 "metadata": {
  "kernelspec": {
   "display_name": "Python 3",
   "language": "python",
   "name": "python3"
  },
  "language_info": {
   "codemirror_mode": {
    "name": "ipython",
    "version": 3
   },
   "file_extension": ".py",
   "mimetype": "text/x-python",
   "name": "python",
   "nbconvert_exporter": "python",
   "pygments_lexer": "ipython3",
   "version": "3.13.1"
  }
 },
 "nbformat": 4,
 "nbformat_minor": 2
}
